{
 "cells": [
  {
   "cell_type": "markdown",
   "id": "c5a28e06",
   "metadata": {},
   "source": [
    "# NASAaccess Demonstration for the La Plata River Basin\n",
    "##### Ibrahim Mohammed <ibrahim.mohammed@nasa.gov>"
   ]
  },
  {
   "cell_type": "markdown",
   "id": "2c8101fd",
   "metadata": {},
   "source": [
    "## Part 1: Exploring R language functionality"
   ]
  },
  {
   "cell_type": "markdown",
   "id": "22d638ab",
   "metadata": {},
   "source": [
    "##### Demonstrating graphics capabilities:"
   ]
  },
  {
   "cell_type": "code",
   "execution_count": null,
   "id": "2c9556ca",
   "metadata": {},
   "outputs": [],
   "source": [
    "demo(graphics)"
   ]
  },
  {
   "cell_type": "markdown",
   "id": "ec71ca5c",
   "metadata": {},
   "source": [
    "##### Plotting data:"
   ]
  },
  {
   "cell_type": "code",
   "execution_count": null,
   "id": "119d0ca8",
   "metadata": {},
   "outputs": [],
   "source": [
    "library(stats)\n",
    "x<-1:10\n",
    "y<-rnorm(10) # normal distribution with mean of 0 and standard deviation of 1\n",
    "plot(x,y)"
   ]
  },
  {
   "cell_type": "markdown",
   "id": "c02475d5",
   "metadata": {},
   "source": [
    "##### Performing arithmetic:"
   ]
  },
  {
   "cell_type": "code",
   "execution_count": null,
   "id": "4f0775b4",
   "metadata": {},
   "outputs": [],
   "source": [
    "3*(5+7.3)"
   ]
  },
  {
   "cell_type": "markdown",
   "id": "2edbcb84",
   "metadata": {},
   "source": [
    "##### Assigning and working with variables:"
   ]
  },
  {
   "cell_type": "code",
   "execution_count": null,
   "id": "75f5becf",
   "metadata": {},
   "outputs": [],
   "source": [
    "g<-9.81\n",
    "m<-30\n",
    "f<-m*g\n",
    "f"
   ]
  },
  {
   "cell_type": "markdown",
   "id": "09b053a2",
   "metadata": {
    "lang": "en"
   },
   "source": [
    "##### Combining values into a vector:"
   ]
  },
  {
   "cell_type": "code",
   "execution_count": null,
   "id": "5e5e95bc",
   "metadata": {},
   "outputs": [],
   "source": [
    "a<-c(1,2,3,4)\n",
    "b<-a*2\n",
    "b"
   ]
  },
  {
   "cell_type": "markdown",
   "id": "17e3a90d",
   "metadata": {},
   "source": [
    "##### Common operations:"
   ]
  },
  {
   "cell_type": "code",
   "execution_count": null,
   "id": "dad96787",
   "metadata": {},
   "outputs": [],
   "source": [
    "ls()  # list the objects in your workspace\n",
    "rm(f)   # Remove one object\n",
    "rm(list=ls()) # Remove objects (to clean up)"
   ]
  },
  {
   "cell_type": "markdown",
   "id": "9487b87f",
   "metadata": {},
   "source": [
    "##### Creating your own function:"
   ]
  },
  {
   "cell_type": "code",
   "execution_count": null,
   "id": "ca8f4912",
   "metadata": {},
   "outputs": [],
   "source": [
    "# Function to calculate harmonic mean\n",
    "Harmonic_mean.r=function(x)\n",
    "      {\n",
    "          x<-x[!is.na(x)]\n",
    "          a<-sum(1/x)\n",
    "          n<-length(x)\n",
    "          \n",
    "          return((a/n)^-1)\n",
    "              }"
   ]
  },
  {
   "cell_type": "markdown",
   "id": "0136299f",
   "metadata": {},
   "source": [
    "##### Try out the function:"
   ]
  },
  {
   "cell_type": "code",
   "execution_count": null,
   "id": "cac46ad1",
   "metadata": {},
   "outputs": [],
   "source": [
    "Harmonic_mean.r(x=c(1,2,4,NA))"
   ]
  },
  {
   "cell_type": "markdown",
   "id": "ef4f32a2",
   "metadata": {},
   "source": [
    "##### Quiz: Testing your skills"
   ]
  },
  {
   "cell_type": "markdown",
   "id": "501cf055",
   "metadata": {},
   "source": [
    "Can you develop a function to calculate the geometric mean following the example shown above for the harmonic mean?"
   ]
  },
  {
   "cell_type": "markdown",
   "id": "1de82058",
   "metadata": {},
   "source": [
    "(Hint:The geometric mean is defined as the nth root of the product of n numbers, i.e., for a set of numbers x1, x2, ..., xn,)"
   ]
  },
  {
   "cell_type": "markdown",
   "id": "2916b16c",
   "metadata": {},
   "source": [
    "## Part 2: Exploring hydrological data"
   ]
  },
  {
   "cell_type": "markdown",
   "id": "8886e3c0",
   "metadata": {},
   "source": [
    "### Precipitation analysis for Ruta Provincial, Argentina\n",
    "\n",
    "Precipitation data retrieved from <https://apps.geoglows.org/apps/water-data-explorer>\n",
    "\n",
    "Station/Platform Name: basavilbaso\n",
    "Territory of origin of data: Argentina\n",
    "Supervising Organization: Instituto Nacional del Agua (INA)\n",
    "Geospatial Location: lat: 32°22'23'' lon: 58°53'12''"
   ]
  },
  {
   "cell_type": "code",
   "execution_count": null,
   "id": "9f93262a",
   "metadata": {},
   "outputs": [],
   "source": [
    "# The file 4E47D870E717581F520F6C4EBE8E23962A880107_1.csv has been formatted as follows\n",
    "# day,Precipitation (mm)\n",
    "# 2008-12-29 09:00:00,0.2\n",
    "# 2008-12-30 09:00:00,0\n",
    "# 2008-12-31 09:00:00,0\n",
    "# 2017-05-01 09:00:00,0\n",
    "# 2017-05-02 09:00:00,0\n",
    "# 2017-05-03 09:00:00,0\n",
    "# 2017-05-04 09:00:00,0\n",
    "# 2017-05-05 09:00:00,0\n",
    "# 2017-05-06 09:00:00,0\n",
    "# 2017-05-07 09:00:00,2"
   ]
  },
  {
   "cell_type": "markdown",
   "id": "0429b124",
   "metadata": {},
   "source": [
    "##### Read in data file:"
   ]
  },
  {
   "cell_type": "code",
   "execution_count": null,
   "id": "1bf6bcba",
   "metadata": {},
   "outputs": [],
   "source": [
    "pp<-read.csv('./extdata/precip_data.csv',na.strings = '-9999',colClasses = c('POSIXct','numeric'))"
   ]
  },
  {
   "cell_type": "markdown",
   "id": "c2ef5415",
   "metadata": {},
   "source": [
    "##### Print summary of precipitation data:"
   ]
  },
  {
   "cell_type": "code",
   "execution_count": null,
   "id": "a7d4e900",
   "metadata": {},
   "outputs": [],
   "source": [
    "summary(pp)"
   ]
  },
  {
   "cell_type": "markdown",
   "id": "edca1f84",
   "metadata": {},
   "source": [
    "##### Plot the data:"
   ]
  },
  {
   "cell_type": "code",
   "execution_count": null,
   "id": "d6fc6e0f",
   "metadata": {},
   "outputs": [],
   "source": [
    "plot(pp[,1],pp[,2],type=\"l\",xlab='',ylab='(mm)',main='Rainfall at Basavilbaso, Argentina')"
   ]
  },
  {
   "cell_type": "markdown",
   "id": "1c02c59d",
   "metadata": {},
   "source": [
    "##### Print mean and variance of precipitation:"
   ]
  },
  {
   "cell_type": "code",
   "execution_count": null,
   "id": "8433f8ee",
   "metadata": {},
   "outputs": [],
   "source": [
    "# Mean\n",
    "mean(pp[,2])\n",
    "\n",
    "# Variance\n",
    "var(pp[,2])"
   ]
  },
  {
   "cell_type": "markdown",
   "id": "4e6e7da0",
   "metadata": {},
   "source": [
    "##### Create plot and save as image:"
   ]
  },
  {
   "cell_type": "code",
   "execution_count": null,
   "id": "a86b65f6",
   "metadata": {},
   "outputs": [],
   "source": [
    "dir.create('./Plots/')\n",
    "jpeg(file='./Plots/Basavilbaso.jpeg',res = 300 ,units = 'in',width = 6, height = 5)\n",
    "par(mar=c(4,5,4,1))\n",
    "plot(pp[,1],pp[,2],type=\"h\",xlab='',ylab='(mm)',\n",
    "     main='Rainfall at Basavilbaso, Argentina',xlim = c(as.POSIXct('2018-1-1'),as.POSIXct('2021-10-1')),\n",
    "     cex.lab=2,cex.axis=2)\n",
    "abline(h=mean(pp[,2]),lwd=2,col=2)\n",
    "box(lwd=3)\n",
    "dev.off()"
   ]
  },
  {
   "cell_type": "markdown",
   "id": "c5e6080c",
   "metadata": {},
   "source": [
    "### Streamflow analysis for Ruta Provincial, Argentina\n",
    "\n",
    "Station/Platform Name: Ruta Provincial nº 39\n",
    "Territory of origin of data: Argentina\n",
    "Supervising Organization: Instituto Nacional del Agua (INA)\n",
    "Geospatial Location: lat: 32°26'42'' lon: 58°33'17''"
   ]
  },
  {
   "cell_type": "markdown",
   "id": "3abb492c",
   "metadata": {},
   "source": [
    "##### Read in streamflow data:"
   ]
  },
  {
   "cell_type": "code",
   "execution_count": null,
   "id": "d647686f",
   "metadata": {},
   "outputs": [],
   "source": [
    "streamflow<-read.csv('./extdata/streamflow_data.csv',colClasses = c('POSIXct','numeric'))"
   ]
  },
  {
   "cell_type": "markdown",
   "id": "0991f86b",
   "metadata": {},
   "source": [
    "##### Print the first several rows:"
   ]
  },
  {
   "cell_type": "code",
   "execution_count": null,
   "id": "62c7559d",
   "metadata": {},
   "outputs": [],
   "source": [
    "head(streamflow)"
   ]
  },
  {
   "cell_type": "code",
   "execution_count": null,
   "id": "6049a5e8",
   "metadata": {},
   "outputs": [],
   "source": [
    "summary(streamflow)"
   ]
  },
  {
   "cell_type": "markdown",
   "id": "77261e91",
   "metadata": {},
   "source": [
    "##### Create streamflow time series"
   ]
  },
  {
   "cell_type": "code",
   "execution_count": null,
   "id": "88dd82cf",
   "metadata": {},
   "outputs": [],
   "source": [
    "library(xts, warn.conflicts = F, quietly = T)\n",
    "\n",
    "streamflowseries<-xts(streamflow[,2],order.by = streamflow[,1])\n",
    "annualstreamflow<-apply.yearly(streamflowseries,FUN=mean)\n",
    "par(mar=c(4,6,4,1))\n",
    "plot(index(annualstreamflow),coredata(annualstreamflow),'b',col='red',xlab = '',ylab = '',cex.axis=2,lwd=3,main='Annual Average Streamflow at Ruta Provincial, Argentina')\n",
    "mtext(side=2,adj=0.5,text=expression(m^3/sec),cex=3,line=3.5)\n",
    "box(lwd=4)"
   ]
  },
  {
   "cell_type": "markdown",
   "id": "46db954d",
   "metadata": {},
   "source": [
    "##### Save plot as an image:"
   ]
  },
  {
   "cell_type": "code",
   "execution_count": null,
   "id": "840c55c3",
   "metadata": {},
   "outputs": [],
   "source": [
    "jpeg(file='./Plots/Ruta Provincial streamflow.jpeg',res = 300 ,units = 'in',width = 8, height = 6)\n",
    "par(mar=c(4,7,4,1))\n",
    "plot(index(annualstreamflow),coredata(annualstreamflow),'b',col='blue',xlab = '',ylab = '',cex.axis=2,lwd=3,main='Annual Average Streamflow at Ruta Provincial, Argentina')\n",
    "mtext(side=2,adj=0.5,text=expression(m^3/sec),cex=3,line=3.5)\n",
    "box(lwd=4)\n",
    "dev.off()"
   ]
  },
  {
   "cell_type": "markdown",
   "id": "d14db16a",
   "metadata": {},
   "source": [
    "### Watershed analysis"
   ]
  },
  {
   "cell_type": "markdown",
   "id": "d5b52e32",
   "metadata": {},
   "source": [
    "##### Load required packages:"
   ]
  },
  {
   "cell_type": "code",
   "execution_count": null,
   "id": "c07d9058",
   "metadata": {},
   "outputs": [],
   "source": [
    "library(rgdal)\n",
    "library(ncdf4)"
   ]
  },
  {
   "cell_type": "markdown",
   "id": "5398ae9a",
   "metadata": {},
   "source": [
    "##### Read in shapefile and create polygons"
   ]
  },
  {
   "cell_type": "code",
   "execution_count": null,
   "id": "2a2de495",
   "metadata": {},
   "outputs": [],
   "source": [
    "watershed <- './extdata/cuenca del plata geog.shp'\n",
    "\n",
    "polys <- readOGR(dsn=watershed,verbose = F)\n",
    "summary(polys)"
   ]
  },
  {
   "cell_type": "markdown",
   "id": "5cfc9493",
   "metadata": {},
   "source": [
    "##### Plot the shapefile:"
   ]
  },
  {
   "cell_type": "code",
   "execution_count": null,
   "id": "5a8961c6",
   "metadata": {},
   "outputs": [],
   "source": [
    "plot(polys,col='red',main='LaPlata River Basin')\n",
    "box(lwd=3)"
   ]
  },
  {
   "cell_type": "markdown",
   "id": "67d6a915",
   "metadata": {},
   "source": [
    "##### Read in GPM (precipitation) data as a NetCDF:"
   ]
  },
  {
   "cell_type": "code",
   "execution_count": null,
   "id": "ecfc5a43",
   "metadata": {},
   "outputs": [],
   "source": [
    "nc<-nc_open( './extdata/3B-DAY.MS.MRG.3IMERG.20160131-S000000-E235959.V03.nc4' )\n",
    "print(nc)"
   ]
  },
  {
   "cell_type": "markdown",
   "id": "1bd0df81",
   "metadata": {},
   "source": [
    "##### Summarize file characteristics:"
   ]
  },
  {
   "cell_type": "code",
   "execution_count": null,
   "id": "5c281e81",
   "metadata": {},
   "outputs": [],
   "source": [
    "# looking at file dimensions\n",
    "summary(nc$dim)\n",
    "\n",
    "# Extracting the y-values (longitudes in degrees east)\n",
    "dim1<-nc$dim[[1]]\n",
    "head(dim1)\n",
    "\n",
    "nc.long<-ncvar_get(nc,dim1$name)\n",
    "head(nc.long)"
   ]
  },
  {
   "cell_type": "code",
   "execution_count": null,
   "id": "629a6a03",
   "metadata": {},
   "outputs": [],
   "source": [
    "# Extracting the x-values (latitudes in degrees north)\n",
    "dim2<-nc$dim[[2]]\n",
    "\n",
    "nc.lat<-ncvar_get(nc,dim2$name)\n",
    "\n",
    "head(nc.lat)"
   ]
  },
  {
   "cell_type": "markdown",
   "id": "a5f2f614",
   "metadata": {},
   "source": [
    "##### Obtain precipitation values:"
   ]
  },
  {
   "cell_type": "code",
   "execution_count": null,
   "id": "b314f94e",
   "metadata": {},
   "outputs": [],
   "source": [
    "v1<-nc$var[[1]]\n",
    "v1$name"
   ]
  },
  {
   "cell_type": "code",
   "execution_count": null,
   "id": "71015b73",
   "metadata": {},
   "outputs": [],
   "source": [
    "ncatt_get(nc,varid='precipitationCal')\n",
    "\n",
    "data<-ncvar_get(nc,v1)"
   ]
  },
  {
   "cell_type": "markdown",
   "id": "7ea4e982",
   "metadata": {},
   "source": [
    "##### Aligning the data to match long/lat:"
   ]
  },
  {
   "cell_type": "code",
   "execution_count": null,
   "id": "cb10acaf",
   "metadata": {},
   "outputs": [],
   "source": [
    "data<-data[ nrow(data):1, ]\n",
    "nc_close(nc)"
   ]
  },
  {
   "cell_type": "markdown",
   "id": "fe04b8ef",
   "metadata": {},
   "source": [
    "##### Plotting the precipitation data:"
   ]
  },
  {
   "cell_type": "code",
   "execution_count": null,
   "id": "ec167a2d",
   "metadata": {},
   "outputs": [],
   "source": [
    "library(raster)\n",
    "library(maps)"
   ]
  },
  {
   "cell_type": "code",
   "execution_count": null,
   "id": "bb29a284",
   "metadata": {},
   "outputs": [],
   "source": [
    "IMERG<-raster(x=as.matrix(data),xmn=nc.long[1],xmx=nc.long[NROW(nc.long)],ymn=nc.lat[1],ymx=nc.lat[NROW(nc.lat)],crs=CRS('+proj=longlat +datum=WGS84'))\n",
    "\n",
    "# Plotting the climate data obtained from NetCdf\n",
    "plot(IMERG,axes=F,main='Daily accumulated precipitation on 2016-01-31 in mm')\n",
    "map(add=T)\n",
    "map.axes(cex.axis=0.8)"
   ]
  },
  {
   "cell_type": "markdown",
   "id": "314ca76e",
   "metadata": {},
   "source": [
    "##### Try plotting with Google Maps"
   ]
  },
  {
   "cell_type": "code",
   "execution_count": null,
   "id": "48f84fc4",
   "metadata": {},
   "outputs": [],
   "source": [
    "library(RgoogleMaps)"
   ]
  },
  {
   "cell_type": "code",
   "execution_count": null,
   "id": "f4a3b7ec",
   "metadata": {},
   "outputs": [],
   "source": [
    "lat <- range(nc.lat) #define our map's ylim\n",
    "lon <- range(nc.long) #define our map's xlim\n",
    "center <- c(-35.6, -58.4)  #tell what point to center on\n",
    "zoom <- 5  #zoom: 1 = furthest out (entire globe), larger numbers = closer in\n",
    "terrmap <- GetMap(center=center, zoom=zoom, maptype= \"terrain\", destfile = \"./Plots/terrain.png\", NEWMAP = TRUE) #lots of visual options, just like google maps: maptype = c(\"roadmap\", \"mobile\", \"satellite\", \"terrain\", \"hybrid\", \"mapmaker-roadmap\", \"mapmaker-hybrid\")"
   ]
  },
  {
   "cell_type": "markdown",
   "id": "c78faa01",
   "metadata": {},
   "source": [
    "##### Reading the study Basin DEM"
   ]
  },
  {
   "cell_type": "code",
   "execution_count": null,
   "id": "d96c47df",
   "metadata": {},
   "outputs": [],
   "source": [
    "watershed.dem <- './extdata/la_plata.tif'\n",
    "dem <- raster(watershed.dem)"
   ]
  },
  {
   "cell_type": "markdown",
   "id": "3b93951f",
   "metadata": {},
   "source": [
    "##### Create a plot of our DEM raster along with Basin"
   ]
  },
  {
   "cell_type": "code",
   "execution_count": null,
   "id": "a58c75f2",
   "metadata": {},
   "outputs": [],
   "source": [
    "library(ggplot2)"
   ]
  },
  {
   "cell_type": "code",
   "execution_count": null,
   "id": "6dafcad8",
   "metadata": {},
   "outputs": [],
   "source": [
    "shape <- readOGR(watershed)\n",
    "plot(dem,\n",
    "     main=\"LaPlata Basin with Digital Elevation Model (DEM)\", \n",
    "      col=rev(bpy.colors()), \n",
    "      xlab='lon', \n",
    "      ylab='lat',\n",
    "      legend  = T,\n",
    "      legend.args=list(text='Elevation (m)', \n",
    "                       side=4, \n",
    "                       font=2, \n",
    "                       line=2.5, \n",
    "                       cex=0.8))\n",
    "\n",
    "plot(shape , add = TRUE)"
   ]
  },
  {
   "cell_type": "markdown",
   "id": "b0c43786",
   "metadata": {},
   "source": [
    "## Part 3: Working with NASAaccess"
   ]
  },
  {
   "cell_type": "code",
   "execution_count": null,
   "id": "8487387c",
   "metadata": {},
   "outputs": [],
   "source": [
    "library(NASAaccess)"
   ]
  },
  {
   "cell_type": "code",
   "execution_count": null,
   "id": "2bd86b42",
   "metadata": {},
   "outputs": [],
   "source": [
    "# Look at help file for GPMswat\n",
    "help(GPMswat)"
   ]
  },
  {
   "cell_type": "markdown",
   "id": "37ab98b1",
   "metadata": {},
   "source": [
    "##### Working with sample GPM data:"
   ]
  },
  {
   "cell_type": "code",
   "execution_count": null,
   "id": "7cc86a52",
   "metadata": {},
   "outputs": [],
   "source": [
    "GPM_NRT(Dir = \"./INPUT/\",\n",
    "        watershed = watershed,\n",
    "        DEM = watershed.dem,\n",
    "        start = \"2022-10-31\",\n",
    "        end = \"2022-11-6\")"
   ]
  },
  {
   "cell_type": "markdown",
   "id": "65a639c4",
   "metadata": {},
   "source": [
    "***\n",
    "Examine data at \"./INPUT/\"\n",
    "\n",
    "\n",
    "What can you say about rainfall during the first 7 days of November over the LaPlata basin?\n",
    "***"
   ]
  },
  {
   "cell_type": "markdown",
   "id": "bf3ea5f4",
   "metadata": {},
   "source": [
    "##### Looking at CMIP5 data:"
   ]
  },
  {
   "cell_type": "code",
   "execution_count": null,
   "id": "93bda96b",
   "metadata": {},
   "outputs": [],
   "source": [
    "NEX_GDDP_CMIP5(\n",
    "   Dir = \"./INPUT2/\",\n",
    "   watershed = watershed,\n",
    "   DEM = watershed.dem,\n",
    "   start = \"2060-12-1\",\n",
    "   end = \"2060-12-10\",\n",
    "   model = \"GFDL-CM3\",\n",
    "   type = \"tas\",\n",
    "   slice = \"rcp85\")"
   ]
  },
  {
   "cell_type": "markdown",
   "id": "71676ced",
   "metadata": {},
   "source": [
    "Now examine data at \"./INPUT2/\""
   ]
  },
  {
   "cell_type": "markdown",
   "id": "87a27406",
   "metadata": {},
   "source": [
    "##### Try another function from NASAaccess! \n",
    "\n",
    "##### Other examples are available at https://imohamme.github.io/NASAaccess/index.html "
   ]
  },
  {
   "cell_type": "markdown",
   "id": "5af32351",
   "metadata": {},
   "source": [
    "### Thanks!"
   ]
  }
 ],
 "metadata": {
  "kernelspec": {
   "display_name": "R [conda env:plata] *",
   "language": "R",
   "name": "conda-env-plata-r"
  },
  "language_info": {
   "codemirror_mode": "r",
   "file_extension": ".r",
   "mimetype": "text/x-r-source",
   "name": "R",
   "pygments_lexer": "r",
   "version": "4.1.3"
  },
  "nbTranslate": {
   "displayLangs": [
    "es"
   ],
   "hotkey": "alt-t",
   "langInMainMenu": true,
   "sourceLang": "en",
   "targetLang": "es",
   "useGoogleTranslate": true
  }
 },
 "nbformat": 4,
 "nbformat_minor": 5
}
