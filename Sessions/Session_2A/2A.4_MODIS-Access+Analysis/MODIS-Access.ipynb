{
 "cells": [
  {
   "cell_type": "markdown",
   "id": "e6cd4e61",
   "metadata": {},
   "source": [
    "# MODIS Access and Analysis\n",
    "#### Perry Oddo <perry.oddo@nasa.gov>"
   ]
  },
  {
   "cell_type": "markdown",
   "id": "3aed90d0",
   "metadata": {},
   "source": [
    "### Part 1: Download MODIS with Python"
   ]
  },
  {
   "cell_type": "code",
   "execution_count": null,
   "id": "0c09ad6c",
   "metadata": {},
   "outputs": [],
   "source": [
    "# Import required packages\n",
    "import fiona\n",
    "import rasterio\n",
    "import xarray as xr\n",
    "import rioxarray as rxr\n",
    "import earthpy.plot as ep\n",
    "\n",
    "from osgeo import gdal\n",
    "from pathlib import Path\n",
    "from modis_tools.auth import ModisSession\n",
    "from modis_tools.resources import CollectionApi, GranuleApi\n",
    "from modis_tools.granule_handler import GranuleHandler\n",
    "from modis_tools.auth import add_earthdata_netrc, remove_earthdata_netrc"
   ]
  },
  {
   "cell_type": "markdown",
   "id": "5859ca59",
   "metadata": {},
   "source": [
    "We first need to authenticate our Python session using login information from `earthdata.nasa.gov`\n",
    "\n",
    "To register with NASA Earthdata, see information [here](https://urs.earthdata.nasa.gov/)"
   ]
  },
  {
   "cell_type": "code",
   "execution_count": 2,
   "id": "85037380",
   "metadata": {},
   "outputs": [],
   "source": [
    "# Enter NASA Earthdata credentials\n",
    "username = \"###########\"\n",
    "password = \"###########\"\n",
    "\n",
    "# Authenticate MODIS session with login information\n",
    "session = ModisSession(username=username, password=password)"
   ]
  },
  {
   "cell_type": "markdown",
   "id": "06940fac",
   "metadata": {},
   "source": [
    "Select the desired MODIS data product. Here, we're downloading the [MOD13A1](https://ladsweb.modaps.eosdis.nasa.gov/missions-and-measurements/products/MOD13A1) product which provides a Vegetation Index (VI) value at a per pixel basis (500-m resolution):"
   ]
  },
  {
   "cell_type": "code",
   "execution_count": 3,
   "id": "6aac9cb8",
   "metadata": {},
   "outputs": [],
   "source": [
    "# Query the MODIS catalog for collections\n",
    "collection_client = CollectionApi(session=session)\n",
    "collections = collection_client.query(short_name=\"MOD13A1\", version=\"006\")\n",
    "\n",
    "# Query the selected collection for granules\n",
    "granule_client = GranuleApi.from_collection(collections[0], session=session)"
   ]
  },
  {
   "cell_type": "markdown",
   "id": "9f838a4e",
   "metadata": {},
   "source": [
    "Next, set up parameters for your data download:\n",
    "<div class=\"alert alert-block alert-warning\"> <b>NOTE: </b> Be careful with large date ranges. MODIS files can be large (<50 mb) so use small date range to test</div>"
   ]
  },
  {
   "cell_type": "code",
   "execution_count": null,
   "id": "503ed959",
   "metadata": {},
   "outputs": [],
   "source": [
    "# Set target dates\n",
    "start = \"2022-10-01\"\n",
    "end = \"2022-10-14\"\n",
    "\n",
    "# Find bounding box of La Plata River Basin\n",
    "plata_shape = \"Data/cuenca_del_plata_shp.shp\"\n",
    "\n",
    "with fiona.open(plata_shape) as box:\n",
    "    plata_bbox = box.bounds\n",
    "\n",
    "print(\"Bounding box for La Plata:\", plata_bbox)\n",
    "\n",
    "# Send Query\n",
    "plata_granules = granule_client.query(start_date=start, end_date=end, bounding_box=plata_bbox)"
   ]
  },
  {
   "cell_type": "code",
   "execution_count": 5,
   "id": "08d04222",
   "metadata": {},
   "outputs": [
    {
     "name": "stderr",
     "output_type": "stream",
     "text": [
      "Downloading: 100%|█████████████████████████████████████████████████████████████████████| 9/9 [05:43<00:00, 38.17s/file]\n"
     ]
    },
    {
     "data": {
      "text/plain": [
       "[WindowsPath('Data/MOD13A1.A2022273.h13v10.006.2022297221228.hdf'),\n",
       " WindowsPath('Data/MOD13A1.A2022273.h11v11.006.2022297221612.hdf'),\n",
       " WindowsPath('Data/MOD13A1.A2022273.h13v12.006.2022297221428.hdf'),\n",
       " WindowsPath('Data/MOD13A1.A2022273.h14v11.006.2022297221624.hdf'),\n",
       " WindowsPath('Data/MOD13A1.A2022273.h13v11.006.2022297221420.hdf'),\n",
       " WindowsPath('Data/MOD13A1.A2022273.h12v12.006.2022297222855.hdf'),\n",
       " WindowsPath('Data/MOD13A1.A2022273.h12v10.006.2022297222131.hdf'),\n",
       " WindowsPath('Data/MOD13A1.A2022273.h12v11.006.2022297222528.hdf'),\n",
       " WindowsPath('Data/MOD13A1.A2022273.h11v10.006.2022297223830.hdf')]"
      ]
     },
     "execution_count": 5,
     "metadata": {},
     "output_type": "execute_result"
    }
   ],
   "source": [
    "# Download the granules that overlap this basin (uncomment to download)\n",
    "GranuleHandler.download_from_granules(plata_granules, session, path=\"Data/\")"
   ]
  },
  {
   "cell_type": "markdown",
   "id": "06c7c03e",
   "metadata": {},
   "source": [
    "The MOD13A1 files for this period should download to your `Data` folder.\n",
    "\n",
    "To start working with them, let's create a list of all downloaded MODIS files:"
   ]
  },
  {
   "cell_type": "code",
   "execution_count": null,
   "id": "5a4e52f8",
   "metadata": {},
   "outputs": [],
   "source": [
    "# Set path to Data folder\n",
    "data_path = Path(\"Data\")\n",
    "\n",
    "# Find all MODIS HDF files\n",
    "mod_files = data_path.glob(\"*.hdf\")\n",
    "mod_files = [f for f in mod_files]\n",
    "\n",
    "print(\"Number of MODIS files:\", str(len(mod_files)))"
   ]
  },
  {
   "cell_type": "markdown",
   "id": "b53106f3",
   "metadata": {},
   "source": [
    "### Part 2: Manipulating MODIS data"
   ]
  },
  {
   "cell_type": "markdown",
   "id": "49453fac",
   "metadata": {},
   "source": [
    "Open one of the MODIS files to see the different bands it contains:"
   ]
  },
  {
   "cell_type": "code",
   "execution_count": null,
   "id": "a57fd655",
   "metadata": {},
   "outputs": [],
   "source": [
    "# User rasterio package to open the first file\n",
    "# Print all the bands to see subdatasets\n",
    "with rasterio.open(mod_files[0]) as test_file:\n",
    "    for band in test_file.subdatasets:\n",
    "        print(band)"
   ]
  },
  {
   "cell_type": "markdown",
   "id": "53461612",
   "metadata": {},
   "source": [
    "Extract the **16 day NDVI** band from the MODIS files:"
   ]
  },
  {
   "cell_type": "code",
   "execution_count": null,
   "id": "5037dbd3",
   "metadata": {},
   "outputs": [],
   "source": [
    "# Create empty list to store data\n",
    "ndvi_files = []\n",
    "\n",
    "# Loop through MODIS files\n",
    "for file in mod_files:\n",
    "    \n",
    "    # Open MODIS file as rasterio object and save to temporary variable\n",
    "    ndvi_single = rxr.open_rasterio(file,\n",
    "                                   masked=True,\n",
    "                                   variable=\"500m 16 days NDVI\").squeeze()\n",
    "    \n",
    "    # Add variable to list\n",
    "    ndvi_files.append(ndvi_single)\n",
    "    \n",
    "# Explore sample output\n",
    "print(ndvi_files[0])"
   ]
  },
  {
   "cell_type": "code",
   "execution_count": null,
   "id": "8361ec43",
   "metadata": {},
   "outputs": [],
   "source": [
    "# Try plotting single file with earthpy package:\n",
    "title = \"MOD13A1 16-day NDVI\"\n",
    "ep.plot_bands(ndvi_files[0][\"500m 16 days NDVI\"], cmap=\"RdYlGn\", cols=1, title=title)"
   ]
  },
  {
   "cell_type": "markdown",
   "id": "f238ef96",
   "metadata": {},
   "source": [
    "### Part 3: Combining and Plotting NDVI data"
   ]
  },
  {
   "cell_type": "markdown",
   "id": "7d339aeb",
   "metadata": {},
   "source": [
    "Notice that the scale doesn't appear correct in our plot -- NDVI values should fall between **[-1,1]**\n",
    "\n",
    "Let's merge the separate files and apply a scaling factor of `0.0001`"
   ]
  },
  {
   "cell_type": "code",
   "execution_count": 10,
   "id": "d8e99456",
   "metadata": {},
   "outputs": [],
   "source": [
    "# Merge files into single raster with xarray package\n",
    "merged = xr.merge(ndvi_files)\n",
    "\n",
    "# Apply scaling factor\n",
    "scaled = merged * 0.0001\n",
    "\n",
    "# Save merged object as geotiff\n",
    "scaled.rio.to_raster(\"Outputs/NDVI_merged.tif\")"
   ]
  },
  {
   "cell_type": "code",
   "execution_count": 11,
   "id": "14658063",
   "metadata": {
    "scrolled": true
   },
   "outputs": [],
   "source": [
    "# Reproject merged geotiff to correct coordinate reference system (epsg:4326)\n",
    "warp_path_in = \"Outputs/NDVI_merged.tif\"\n",
    "warp_path_out = \"Outputs/NDVI_warp.tif\"\n",
    "\n",
    "# Run gdalwarp utility through Python API\n",
    "ds = gdal.Warp(warp_path_out, warp_path_in, dstSRS='EPSG:4326')\n",
    "ds = None"
   ]
  },
  {
   "cell_type": "markdown",
   "id": "c2df3dfb",
   "metadata": {},
   "source": [
    "We have merged and reprojected our NDVI raster. Now we want to clip it to our study area (La Plata Basin shapefile)"
   ]
  },
  {
   "cell_type": "code",
   "execution_count": 12,
   "id": "8b8f128c",
   "metadata": {},
   "outputs": [],
   "source": [
    "import rasterio.mask\n",
    "\n",
    "# Define inputs and outputs\n",
    "clip_path_in = \"Outputs/NDVI_warp.tif\"\n",
    "clip_path_out = \"Outputs/NDVI_clip.tif\"\n",
    "\n",
    "# Open shapefile to use as mask\n",
    "with fiona.open(plata_shape, \"r\") as shapefile:\n",
    "    mask = [feature[\"geometry\"] for feature in shapefile]\n",
    "\n",
    "# Clip raster with mask\n",
    "with rasterio.open(clip_path_in) as src:\n",
    "    out_image, out_transform = rasterio.mask.mask(src, mask, crop=True)\n",
    "    out_meta = src.meta\n",
    "\n",
    "out_meta.update({\"driver\": \"GTiff\",\n",
    "                 \"height\": out_image.shape[1],\n",
    "                 \"width\": out_image.shape[2],\n",
    "                 \"transform\": out_transform})\n",
    "\n",
    "# Save to file\n",
    "with rasterio.open(clip_path_out, \"w\", **out_meta) as dest:\n",
    "    dest.write(out_image)"
   ]
  },
  {
   "cell_type": "markdown",
   "id": "f92073b9",
   "metadata": {},
   "source": [
    "Plot clipped NDVI map"
   ]
  },
  {
   "cell_type": "code",
   "execution_count": 13,
   "id": "2a76b449",
   "metadata": {},
   "outputs": [],
   "source": [
    "# Open clipped NDVI with rioxarray\n",
    "new = rxr.open_rasterio(\"Outputs/NDVI_clip.tif\")"
   ]
  },
  {
   "cell_type": "code",
   "execution_count": null,
   "id": "5288d334",
   "metadata": {},
   "outputs": [],
   "source": [
    "# Create plot\n",
    "%matplotlib inline\n",
    "\n",
    "new.plot(cmap=\"RdYlGn\")"
   ]
  },
  {
   "cell_type": "markdown",
   "id": "b59b78b9",
   "metadata": {},
   "source": [
    "### Part 4: Adapting this script\n",
    "\n",
    "Now it's **your turn**. \n",
    "\n",
    "Make a copy of this jupyter notebook (e.g. `MODIS-Access-new.ipynb`) so you can explore the data yourselves.\n",
    "\n",
    "Things to try:\n",
    "* First, change the credentials (cell [2]) and try authenticating with your own username / password\n",
    "* Change some parameters for the data query (e.g. new start/end dates or [new bounding box](http://bboxfinder.com/)\n",
    "* Try exploring a different band (e.g. try plotting EVI instead of NDVI)"
   ]
  },
  {
   "cell_type": "markdown",
   "id": "ea00c5fd",
   "metadata": {},
   "source": [
    "### Part 5: Explore a new MODIS product\n",
    "\n",
    "This tutorial specifically uses the **MOD13A1** (Vegetation Indices 16-Day L3 Global 500m) product. Try exploring a different MODIS product from the [Data Products Table](https://modis.gsfc.nasa.gov/data/dataprod/). \n",
    "\n",
    "<div class=\"alert alert-block alert-info\"> <b>Discussion: </b> Share which product you selected and discuss a possible application area</div>"
   ]
  }
 ],
 "metadata": {
  "kernelspec": {
   "display_name": "Python [conda env:plata] *",
   "language": "python",
   "name": "conda-env-plata-py"
  },
  "language_info": {
   "codemirror_mode": {
    "name": "ipython",
    "version": 3
   },
   "file_extension": ".py",
   "mimetype": "text/x-python",
   "name": "python",
   "nbconvert_exporter": "python",
   "pygments_lexer": "ipython3",
   "version": "3.10.6"
  },
  "nbTranslate": {
   "displayLangs": [
    "en"
   ],
   "hotkey": "alt-t",
   "langInMainMenu": true,
   "sourceLang": "en",
   "targetLang": "fr",
   "useGoogleTranslate": true
  }
 },
 "nbformat": 4,
 "nbformat_minor": 5
}
